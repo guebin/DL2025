{
 "cells": [
  {
   "cell_type": "raw",
   "id": "d8117487-32f0-4b29-b2f5-23c095a03708",
   "metadata": {
    "tags": []
   },
   "source": [
    "---\n",
    "title: \"12wk-1: 순환신경망 (2) -- 순환신경망의 이해, `rNNCell`, `RNNCell`\"\n",
    "author: \"최규빈\"\n",
    "date: \"05/20/2024\"\n",
    "---"
   ]
  },
  {
   "cell_type": "markdown",
   "id": "96424407-aacc-4b93-aebf-6d405fcd9089",
   "metadata": {
    "id": "e67ab8e0"
   },
   "source": [
    "<a href=\"https://colab.research.google.com/github/guebin/DL2024/blob/main/posts/12wk-1.ipynb\"><img src=\"https://colab.research.google.com/assets/colab-badge.svg\" style=\"text-align: left\"></a>"
   ]
  },
  {
   "cell_type": "markdown",
   "id": "b2d94b2c-7a81-4095-afcc-a9524882680f",
   "metadata": {},
   "source": [
    "# 1. 강의영상 "
   ]
  },
  {
   "cell_type": "markdown",
   "id": "16d07b32-eb5c-4faa-b7ab-6f1fb9bb8ee2",
   "metadata": {
    "tags": []
   },
   "source": [
    "{{<video https://youtu.be/playlist?list=PLQqh36zP38-xq0bBQn8ZP607mS0ZKI8Sg&si=-cQULuc2x7noftgE >}}"
   ]
  },
  {
   "cell_type": "markdown",
   "id": "40cdf474-fb9b-45c8-b948-0cc5535a8cb7",
   "metadata": {
    "tags": []
   },
   "source": [
    "# 2. Import"
   ]
  },
  {
   "cell_type": "code",
   "execution_count": 177,
   "id": "68a71a91-0657-43d7-8cfc-e72fc147979e",
   "metadata": {
    "tags": []
   },
   "outputs": [],
   "source": [
    "import torch\n",
    "import pandas as pd\n",
    "import matplotlib.pyplot as plt"
   ]
  },
  {
   "cell_type": "code",
   "execution_count": 178,
   "id": "1fbd5352-e660-4eda-9543-a84e6e92a3f2",
   "metadata": {
    "tags": []
   },
   "outputs": [],
   "source": [
    "soft = torch.nn.Softmax(dim=1)"
   ]
  },
  {
   "cell_type": "markdown",
   "id": "14387679-34d1-4730-b7e2-baa964460fdf",
   "metadata": {},
   "source": [
    "# 3. AbAcAd -- 실패"
   ]
  },
  {
   "cell_type": "markdown",
   "id": "900e7945-837b-45ee-8ede-0d6f42ee52e5",
   "metadata": {},
   "source": [
    "## A. Data"
   ]
  },
  {
   "cell_type": "markdown",
   "id": "8059cf20-1458-4d35-bc57-bcf5a6549352",
   "metadata": {},
   "source": [
    "`-` 데이터 정리 "
   ]
  },
  {
   "cell_type": "code",
   "execution_count": 179,
   "id": "e78e111f-fc9e-4ae8-8f56-501e12c4825d",
   "metadata": {
    "tags": []
   },
   "outputs": [
    {
     "data": {
      "text/plain": [
       "['A', 'b', 'A', 'c', 'A', 'd', 'A', 'b', 'A', 'c']"
      ]
     },
     "execution_count": 179,
     "metadata": {},
     "output_type": "execute_result"
    }
   ],
   "source": [
    "txt = list('AbAcAd'*50)\n",
    "txt[:10]"
   ]
  },
  {
   "cell_type": "code",
   "execution_count": 180,
   "id": "1e07fd45-4b69-4d7f-91e8-ff57735da758",
   "metadata": {
    "tags": []
   },
   "outputs": [
    {
     "data": {
      "text/html": [
       "<div>\n",
       "<style scoped>\n",
       "    .dataframe tbody tr th:only-of-type {\n",
       "        vertical-align: middle;\n",
       "    }\n",
       "\n",
       "    .dataframe tbody tr th {\n",
       "        vertical-align: top;\n",
       "    }\n",
       "\n",
       "    .dataframe thead th {\n",
       "        text-align: right;\n",
       "    }\n",
       "</style>\n",
       "<table border=\"1\" class=\"dataframe\">\n",
       "  <thead>\n",
       "    <tr style=\"text-align: right;\">\n",
       "      <th></th>\n",
       "      <th>x</th>\n",
       "      <th>y</th>\n",
       "    </tr>\n",
       "  </thead>\n",
       "  <tbody>\n",
       "    <tr>\n",
       "      <th>0</th>\n",
       "      <td>A</td>\n",
       "      <td>b</td>\n",
       "    </tr>\n",
       "    <tr>\n",
       "      <th>1</th>\n",
       "      <td>b</td>\n",
       "      <td>A</td>\n",
       "    </tr>\n",
       "    <tr>\n",
       "      <th>2</th>\n",
       "      <td>A</td>\n",
       "      <td>c</td>\n",
       "    </tr>\n",
       "    <tr>\n",
       "      <th>3</th>\n",
       "      <td>c</td>\n",
       "      <td>A</td>\n",
       "    </tr>\n",
       "    <tr>\n",
       "      <th>4</th>\n",
       "      <td>A</td>\n",
       "      <td>d</td>\n",
       "    </tr>\n",
       "  </tbody>\n",
       "</table>\n",
       "</div>"
      ],
      "text/plain": [
       "   x  y\n",
       "0  A  b\n",
       "1  b  A\n",
       "2  A  c\n",
       "3  c  A\n",
       "4  A  d"
      ]
     },
     "execution_count": 180,
     "metadata": {},
     "output_type": "execute_result"
    }
   ],
   "source": [
    "df_train = pd.DataFrame({'x':txt[:-1], 'y':txt[1:]})\n",
    "df_train[:5]"
   ]
  },
  {
   "cell_type": "code",
   "execution_count": 181,
   "id": "ba5f69ec-12b0-4dc2-8e53-9548e6ae5979",
   "metadata": {
    "tags": []
   },
   "outputs": [],
   "source": [
    "x = torch.tensor(df_train.x.map({'A':0,'b':1,'c':2,'d':3}))\n",
    "y = torch.tensor(df_train.y.map({'A':0,'b':1,'c':2,'d':3}))"
   ]
  },
  {
   "cell_type": "code",
   "execution_count": 182,
   "id": "3da4f678-9e3a-4e6c-b5a1-9a36342011da",
   "metadata": {
    "tags": []
   },
   "outputs": [
    {
     "data": {
      "text/plain": [
       "(tensor([0, 1, 0, 2, 0, 3, 0, 1]), tensor([1, 0, 2, 0, 3, 0, 1, 0]))"
      ]
     },
     "execution_count": 182,
     "metadata": {},
     "output_type": "execute_result"
    }
   ],
   "source": [
    "x[:8],y[:8]"
   ]
  },
  {
   "cell_type": "markdown",
   "id": "4531b7f3-70ca-408e-89d7-c8c2eb00ff12",
   "metadata": {},
   "source": [
    "## B. 풀이 -- 실패 "
   ]
  },
  {
   "cell_type": "code",
   "execution_count": 183,
   "id": "929ff988-258e-4253-9303-a4ac1ca78cca",
   "metadata": {
    "tags": []
   },
   "outputs": [],
   "source": [
    "net = torch.nn.Sequential(\n",
    "    torch.nn.Embedding(4,2),\n",
    "    torch.nn.Tanh(),\n",
    "    torch.nn.Linear(2,4)\n",
    ")\n",
    "ebdd,tanh,linr = net\n",
    "ebdd.weight.data = ebdd.weight.data*0 +0.1\n",
    "linr.weight.data = linr.weight.data*0 +0.1\n",
    "linr.bias.data = linr.bias.data*0 +0.1\n",
    "#\n",
    "loss_fn = torch.nn.CrossEntropyLoss()\n",
    "optimizr = torch.optim.Adam(net.parameters(),lr=0.1)\n",
    "#---#\n",
    "for epoc in range(200):\n",
    "    # 1 \n",
    "    netout = net(x)\n",
    "    # 2 \n",
    "    loss = loss_fn(netout,y)\n",
    "    # 3 \n",
    "    loss.backward()\n",
    "    # 4 \n",
    "    optimizr.step()\n",
    "    optimizr.zero_grad()"
   ]
  },
  {
   "cell_type": "code",
   "execution_count": 169,
   "id": "ba1aad55-5a72-481e-889b-248aef03db34",
   "metadata": {
    "tags": []
   },
   "outputs": [
    {
     "data": {
      "image/png": "[encoded data removed]",
      "text/plain": [
       "<Figure size 400x666.667 with 1 Axes>"
      ]
     },
     "metadata": {},
     "output_type": "display_data"
    }
   ],
   "source": [
    "h = tanh(ebdd(x))\n",
    "yhat = soft(net(x))\n",
    "mat = torch.concat([h,yhat],axis=1).data[:10]\n",
    "plt.matshow(mat,cmap=\"bwr\",vmin=-1,vmax=1)\n",
    "plt.axvline(1.5,color=\"lime\")\n",
    "plt.xticks(ticks=range(6),labels=[r\"$h_1$\",r\"$h_2$\",r\"$P_A$\",r\"$P_b$\",r\"$P_c$\",r\"$P_d$\"]);"
   ]
  },
  {
   "cell_type": "markdown",
   "id": "24062429-fd14-4201-b905-7fd8fdc4822e",
   "metadata": {},
   "source": [
    "- 망했음 \n",
    "- 왜? "
   ]
  },
  {
   "cell_type": "markdown",
   "id": "6ec00823-fddd-437b-a61f-766d97de50c5",
   "metadata": {},
   "source": [
    "`-` 일단 망한건 망한거고 분석을 위해서 숫자좀 체크하자. "
   ]
  },
  {
   "cell_type": "code",
   "execution_count": 168,
   "id": "64139efc-eec1-4cc8-b335-2c86264e4b88",
   "metadata": {
    "tags": []
   },
   "outputs": [
    {
     "data": {
      "text/plain": [
       "tensor([[-3.8668,  3.6836,  3.6836,  3.6836],\n",
       "        [ 5.4879, -4.9081, -4.9081, -4.9081],\n",
       "        [-3.8668,  3.6836,  3.6836,  3.6836],\n",
       "        ...,\n",
       "        [-3.8668,  3.6836,  3.6836,  3.6836],\n",
       "        [ 5.4879, -4.9081, -4.9081, -4.9081],\n",
       "        [-3.8668,  3.6836,  3.6836,  3.6836]], grad_fn=<AddmmBackward0>)"
      ]
     },
     "execution_count": 168,
     "metadata": {},
     "output_type": "execute_result"
    }
   ],
   "source": [
    "net(x)"
   ]
  },
  {
   "cell_type": "markdown",
   "id": "f51867a4-335a-494d-8fbd-45d733ffd044",
   "metadata": {
    "tags": []
   },
   "source": [
    "## C. 실패한 풀이의 다른구현1"
   ]
  },
  {
   "cell_type": "markdown",
   "id": "6babe438-eb62-4741-8546-2de68ab68f6d",
   "metadata": {},
   "source": [
    "`-` B를 다른방식으로 구현해보자. "
   ]
  },
  {
   "cell_type": "markdown",
   "id": "f47e7514-aead-440c-bb78-d84f711d4f46",
   "metadata": {
    "tags": []
   },
   "source": [
    "`-` 새로운 방식의 데이터 정리 "
   ]
  },
  {
   "cell_type": "code",
   "execution_count": 40,
   "id": "865f058a-1b21-4d82-a50d-bee58b535c8e",
   "metadata": {
    "tags": []
   },
   "outputs": [],
   "source": [
    "x = torch.tensor(df_train.x.map({'A':0,'b':1,'c':2,'d':3}))\n",
    "y = torch.tensor(df_train.y.map({'A':0,'b':1,'c':2,'d':3}))\n",
    "X = torch.nn.functional.one_hot(x).float()\n",
    "y = torch.nn.functional.one_hot(y).float()"
   ]
  },
  {
   "cell_type": "markdown",
   "id": "d4b95477-fc7c-420a-9ed6-86c416e15264",
   "metadata": {},
   "source": [
    "`-` 사용자 정의 Hnet를 사용"
   ]
  },
  {
   "cell_type": "code",
   "execution_count": 41,
   "id": "91bb1b4d-8671-44da-8f0e-6576df02496e",
   "metadata": {
    "tags": []
   },
   "outputs": [],
   "source": [
    "class Hnet(torch.nn.Module):\n",
    "    def __init__(self):\n",
    "        super().__init__()\n",
    "        self.i2h = torch.nn.Linear(4,2,bias=False)\n",
    "        self.tanh = torch.nn.Tanh()\n",
    "    def forward(self,X):\n",
    "        h = self.tanh(self.i2h(X))\n",
    "        return h\n",
    "hnet = Hnet()\n",
    "linr = torch.nn.Linear(2,4)\n",
    "hnet.i2h.weight.data = hnet.i2h.weight.data*0 + 0.1\n",
    "linr.weight.data = linr.weight.data*0 + 0.1\n",
    "linr.bias.data = linr.bias.data*0 + 0.1\n",
    "# \n",
    "loss_fn = torch.nn.CrossEntropyLoss()\n",
    "optimizr = torch.optim.Adam(list(hnet.parameters())+list(linr.parameters()),lr=0.1)\n",
    "#---#\n",
    "for epoc in range(200):\n",
    "    # 1 \n",
    "    h = hnet(X)\n",
    "    netout = linr(h)\n",
    "    # 2 \n",
    "    loss = loss_fn(netout,y)\n",
    "    # 3 \n",
    "    loss.backward()\n",
    "    # 4 \n",
    "    optimizr.step()\n",
    "    optimizr.zero_grad()"
   ]
  },
  {
   "cell_type": "markdown",
   "id": "49d57afa-07e9-4879-9bf4-383ffc3dd7fd",
   "metadata": {},
   "source": [
    "`-` 이것도 숫자좀 체크해보자. "
   ]
  },
  {
   "cell_type": "code",
   "execution_count": 42,
   "id": "aee6eda1-6939-48a0-a929-eb105982b367",
   "metadata": {
    "tags": []
   },
   "outputs": [
    {
     "data": {
      "text/plain": [
       "tensor([[-3.8668,  3.6836,  3.6836,  3.6836],\n",
       "        [ 5.4879, -4.9081, -4.9081, -4.9081],\n",
       "        [-3.8668,  3.6836,  3.6836,  3.6836],\n",
       "        ...,\n",
       "        [-3.8668,  3.6836,  3.6836,  3.6836],\n",
       "        [ 5.4879, -4.9081, -4.9081, -4.9081],\n",
       "        [-3.8668,  3.6836,  3.6836,  3.6836]], grad_fn=<AddmmBackward0>)"
      ]
     },
     "execution_count": 42,
     "metadata": {},
     "output_type": "execute_result"
    }
   ],
   "source": [
    "linr(hnet(X))"
   ]
  },
  {
   "cell_type": "markdown",
   "id": "de907c13-ab4e-4636-ae39-9a3f91009d4a",
   "metadata": {},
   "source": [
    "- 이전코드와 결과가 같음 "
   ]
  },
  {
   "cell_type": "markdown",
   "id": "28a5f62c-3e59-490c-a9bf-d5aae48843c1",
   "metadata": {},
   "source": [
    "## D. 실패한 풀이의 다른구현2"
   ]
  },
  {
   "cell_type": "markdown",
   "id": "94210668-cac4-4a31-a9ea-e16c817df0fc",
   "metadata": {
    "tags": []
   },
   "source": [
    "`# 예비학습` -- 아래를 관찰하자. "
   ]
  },
  {
   "cell_type": "code",
   "execution_count": 43,
   "id": "058e9ca0-4bf0-49d6-a968-010284db3388",
   "metadata": {
    "tags": []
   },
   "outputs": [],
   "source": [
    "X = torch.tensor(\n",
    "    [[1., 0., 0., 0.],\n",
    "     [0., 1., 0., 0.]]\n",
    ")\n",
    "linr = torch.nn.Linear(4,2)"
   ]
  },
  {
   "cell_type": "code",
   "execution_count": 44,
   "id": "a42696f7-11c7-4d06-9ae2-9d3d0acfedbf",
   "metadata": {
    "tags": []
   },
   "outputs": [
    {
     "data": {
      "text/plain": [
       "tensor([[-0.1147,  0.6200],\n",
       "        [-0.3293,  0.4397]], grad_fn=<AddmmBackward0>)"
      ]
     },
     "execution_count": 44,
     "metadata": {},
     "output_type": "execute_result"
    }
   ],
   "source": [
    "linr(X)"
   ]
  },
  {
   "cell_type": "code",
   "execution_count": 45,
   "id": "6f7c7d53-d9bd-45f2-94f9-20d81609e825",
   "metadata": {
    "tags": []
   },
   "outputs": [
    {
     "data": {
      "text/plain": [
       "(tensor([[-0.1147,  0.6200]], grad_fn=<AddmmBackward0>),\n",
       " tensor([[-0.3293,  0.4397]], grad_fn=<AddmmBackward0>))"
      ]
     },
     "execution_count": 45,
     "metadata": {},
     "output_type": "execute_result"
    }
   ],
   "source": [
    "linr(X[[0]]),linr(X[[1]])"
   ]
  },
  {
   "cell_type": "code",
   "execution_count": 46,
   "id": "b3df9f9a-06d2-430b-82cc-63689ae8d204",
   "metadata": {
    "tags": []
   },
   "outputs": [
    {
     "data": {
      "text/plain": [
       "(tensor([-0.1147,  0.6200], grad_fn=<ViewBackward0>),\n",
       " tensor([-0.3293,  0.4397], grad_fn=<ViewBackward0>))"
      ]
     },
     "execution_count": 46,
     "metadata": {},
     "output_type": "execute_result"
    }
   ],
   "source": [
    "linr(X[0]),linr(X[1])"
   ]
  },
  {
   "cell_type": "markdown",
   "id": "1ba9d734-dbfe-41a6-b616-de02279d70c7",
   "metadata": {},
   "source": [
    "`#`"
   ]
  },
  {
   "cell_type": "markdown",
   "id": "73da278a-13a6-4875-a73a-b04b878b2c20",
   "metadata": {},
   "source": [
    "`-` 또 다른방식의 구현 "
   ]
  },
  {
   "cell_type": "code",
   "execution_count": 47,
   "id": "602c9df3-02d9-4bc2-a0f3-79f6808bc61d",
   "metadata": {
    "tags": []
   },
   "outputs": [],
   "source": [
    "x = torch.tensor(df_train.x.map({'A':0,'b':1,'c':2,'d':3}))\n",
    "y = torch.tensor(df_train.y.map({'A':0,'b':1,'c':2,'d':3}))\n",
    "X = torch.nn.functional.one_hot(x).float()\n",
    "y = torch.nn.functional.one_hot(y).float()"
   ]
  },
  {
   "cell_type": "code",
   "execution_count": 48,
   "id": "0561d418-68d7-45a1-a72c-f6ed06c8f9ef",
   "metadata": {
    "tags": []
   },
   "outputs": [],
   "source": [
    "class Hnet(torch.nn.Module):\n",
    "    def __init__(self):\n",
    "        super().__init__()\n",
    "        self.i2h = torch.nn.Linear(4,2,bias=False)\n",
    "        self.tanh = torch.nn.Tanh()\n",
    "    def forward(self,X):\n",
    "        h = self.tanh(self.i2h(X))\n",
    "        return h\n",
    "hnet = Hnet()\n",
    "linr = torch.nn.Linear(2,4)\n",
    "hnet.i2h.weight.data = hnet.i2h.weight.data*0 + 0.1\n",
    "linr.weight.data = linr.weight.data*0 + 0.1\n",
    "linr.bias.data = linr.bias.data*0 + 0.1\n",
    "# \n",
    "loss_fn = torch.nn.CrossEntropyLoss()\n",
    "optimizr = torch.optim.Adam(list(hnet.parameters())+list(linr.parameters()),lr=0.1)\n",
    "#---#\n",
    "L = len(X)\n",
    "for epoc in range(200):\n",
    "    # 1~2 \n",
    "    loss = 0 \n",
    "    for t in range(L):\n",
    "        Xt,yt = X[t],y[t]\n",
    "        ht = hnet(Xt)\n",
    "        ot = linr(ht)\n",
    "        loss = loss + loss_fn(ot,yt)\n",
    "    loss = loss/L\n",
    "    # 3 \n",
    "    loss.backward()\n",
    "    # 4 \n",
    "    optimizr.step()\n",
    "    optimizr.zero_grad()"
   ]
  },
  {
   "cell_type": "markdown",
   "id": "733af8ef-aea6-48cc-8ba5-aba1acc089a2",
   "metadata": {},
   "source": [
    "`-` 이것도 숫자좀 체크해보자. "
   ]
  },
  {
   "cell_type": "code",
   "execution_count": 49,
   "id": "5453fd9f-8824-4e3d-93af-2e634ccb3fc8",
   "metadata": {
    "tags": []
   },
   "outputs": [
    {
     "data": {
      "text/plain": [
       "tensor([[-3.8668,  3.6836,  3.6836,  3.6836],\n",
       "        [ 5.4879, -4.9081, -4.9081, -4.9081],\n",
       "        [-3.8668,  3.6836,  3.6836,  3.6836],\n",
       "        ...,\n",
       "        [-3.8668,  3.6836,  3.6836,  3.6836],\n",
       "        [ 5.4879, -4.9081, -4.9081, -4.9081],\n",
       "        [-3.8668,  3.6836,  3.6836,  3.6836]], grad_fn=<AddmmBackward0>)"
      ]
     },
     "execution_count": 49,
     "metadata": {},
     "output_type": "execute_result"
    }
   ],
   "source": [
    "linr(hnet(X))"
   ]
  },
  {
   "cell_type": "markdown",
   "id": "69c14a68-8e27-4e70-b1fb-846fbca82676",
   "metadata": {},
   "source": [
    "`-` 임베딩공간의 해석 "
   ]
  },
  {
   "cell_type": "code",
   "execution_count": 50,
   "id": "189bc840-a27b-40da-87ce-f35ac91d1574",
   "metadata": {
    "tags": []
   },
   "outputs": [],
   "source": [
    "h = hnet(X)"
   ]
  },
  {
   "cell_type": "code",
   "execution_count": 51,
   "id": "d62b1a49-a9d2-4680-b300-f39e011b77b7",
   "metadata": {
    "tags": []
   },
   "outputs": [
    {
     "data": {
      "text/plain": [
       "torch.Size([299, 2])"
      ]
     },
     "execution_count": 51,
     "metadata": {},
     "output_type": "execute_result"
    }
   ],
   "source": [
    "h.shape"
   ]
  },
  {
   "cell_type": "code",
   "execution_count": 52,
   "id": "1f01d3f4-ae66-408f-9975-a1d8067098e9",
   "metadata": {
    "tags": []
   },
   "outputs": [],
   "source": [
    "h1,h2 = h.T.data\n",
    "# h1 = h[:,0].data\n",
    "# h2 = h[:,1].data"
   ]
  },
  {
   "cell_type": "code",
   "execution_count": 53,
   "id": "75938155-6b21-404e-805e-bbdb707201bf",
   "metadata": {
    "tags": []
   },
   "outputs": [
    {
     "data": {
      "text/plain": [
       "<matplotlib.legend.Legend at 0x747ff05f4650>"
      ]
     },
     "execution_count": 53,
     "metadata": {},
     "output_type": "execute_result"
    },
    {
     "data": {
      "image/png": "[encoded data removed]",
      "text/plain": [
       "<Figure size 640x480 with 1 Axes>"
      ]
     },
     "metadata": {},
     "output_type": "display_data"
    }
   ],
   "source": [
    "plt.plot(h1[::6],h2[::6],'X',label=\"A\")\n",
    "plt.plot(h1[1::6],h2[1::6],'X',label=\"b\")\n",
    "plt.plot(h1[2::6],h2[2::6],'X',label=\"A\")\n",
    "plt.plot(h1[3::6],h2[3::6],'X',label=\"c\")\n",
    "plt.plot(h1[4::6],h2[4::6],'X',label=\"A\")\n",
    "plt.plot(h1[5::6],h2[5::6],'X',label=\"d\")\n",
    "plt.legend()"
   ]
  },
  {
   "cell_type": "markdown",
   "id": "b4df5b56-a6d9-4833-bedc-19d5c152ba90",
   "metadata": {},
   "source": [
    "> 임베딩공간의 해석? b,c,d는 사실상 같은 문자로 취급한다. "
   ]
  },
  {
   "cell_type": "markdown",
   "id": "255b165c-fb44-401e-be81-9eb2ccfd9fef",
   "metadata": {},
   "source": [
    "# 4. `AbAcAd` -- 성공"
   ]
  },
  {
   "cell_type": "markdown",
   "id": "881028d7-bfb9-4fb7-a8cc-356cfcc30e28",
   "metadata": {},
   "source": [
    "## A. 순환신경망의 모티브 "
   ]
  },
  {
   "cell_type": "markdown",
   "id": "968c81e3-ffcc-4848-9252-1114c2594438",
   "metadata": {},
   "source": [
    "***(예비생각1) ${\\boldsymbol h}$에 대한 이해***"
   ]
  },
  {
   "cell_type": "markdown",
   "id": "243b1284-0e0a-411d-a0ad-2ba1583748da",
   "metadata": {},
   "source": [
    "`-` ${\\boldsymbol h}$는 사실 문자열 \"Abcd\"들을 숫자로 바꾼 표현이라 해석할 수 있음. 즉 원핫인코딩과 다른 또 다른 형태의 숫자표현이라 해석할 수 있다. "
   ]
  },
  {
   "cell_type": "markdown",
   "id": "6856409a-00e8-41a8-a39f-4f9900d2d40f",
   "metadata": {},
   "source": [
    "`-` 사실 ${\\boldsymbol h}$는 원핫인코딩보다 약간 더 (1) 액기스만 남은 느낌 + (2) 숙성된 느낌을 준다\n",
    "\n",
    "- (why1) ${\\boldsymbol h}$는 ${\\boldsymbol x}$ 보다 ${\\boldsymbol y}$를 예측함에 좀 더 직접적인 역할을 한다. 즉 ${\\boldsymbol x}$ 숫자보다 ${\\boldsymbol h}$ 숫자가 잘 정리되어 있고 (차원이 낮고) 입력의 특징을 잘 정리한 (추천시스템의 MBTI처럼) 의미있는 숫자이다. \n",
    "- (why2) ${\\boldsymbol x}$는 학습없이 그냥 얻어지는 숫자표현이지만, ${\\boldsymbol h}$는 학습을 통하여 고치고 고치고 고친 숫자표현이다. "
   ]
  },
  {
   "cell_type": "markdown",
   "id": "6bba19de-2bc6-4ce6-9954-f1fd27866d31",
   "metadata": {},
   "source": [
    "결론: 사실 ${\\boldsymbol h}$는 잘 숙성되어있는 입력정보 ${\\boldsymbol x}$ 그 자체로 해석 할 수 있다. "
   ]
  },
  {
   "cell_type": "markdown",
   "id": "270edf7c-6a9f-4681-b37d-3a69423c0f4f",
   "metadata": {},
   "source": [
    "***(예비생각2) [수백년전통을 이어가는 방법](https://www.joongang.co.kr/article/24087690#home)***"
   ]
  },
  {
   "cell_type": "markdown",
   "id": "ab4b8464-304b-4341-865f-40e89b02b683",
   "metadata": {},
   "source": [
    "```\n",
    "“1리터에 500만원에 낙찰된 적 있습니다.”\n",
    "“2kg에 1억원 정도 추산됩니다.”\n",
    "“20여 종 종자장을 블렌딩해 100ml에 5000만원씩 분양 예정입니다.”\n",
    "\n",
    "모두 씨간장(종자장) 가격에 관한 실제 일화다.\n",
    "\n",
    "(중략...)\n",
    "\n",
    "위스키나 와인처럼 블렌딩을 하기도 한다. \n",
    "새로 담근 간장에 씨간장을 넣거나, 씨간장독에 햇간장을 넣어 맛을 유지하기도 한다. \n",
    "이를 겹장(또는 덧장)이라 한다. \n",
    "몇몇 종갓집에선 씨간장 잇기를 몇백 년째 해오고 있다. \n",
    "매년 새로 간장을 담가야 이어갈 수 있으니 불씨 꺼트리지 않는 것처럼 굉장히 어려운 일이다.\n",
    "이렇게 하는 이유는 집집마다 내려오는 고유 장맛을 잃지 않기 위함이다. \n",
    "씨간장이란 그만큼 소중한 주방의 자산이며 정체성이다.\n",
    "```"
   ]
  },
  {
   "cell_type": "markdown",
   "id": "58cc2421-9d9b-4787-8597-8cc8561ec17b",
   "metadata": {},
   "source": [
    "덧장: 새로운간장을 만들때, 옛날간장을 섞어서 만듬 "
   ]
  },
  {
   "cell_type": "markdown",
   "id": "b6f34e17-2c4b-4be1-9cb0-4b9d44fd4fe6",
   "metadata": {},
   "source": [
    "`*` 기존방식\n",
    "- $\\text{콩물} \\overset{\\text{숙성}}{\\longrightarrow} \\text{간장}$"
   ]
  },
  {
   "cell_type": "markdown",
   "id": "655d7693-7d50-4828-949a-3dac3dc4b0ac",
   "metadata": {},
   "source": [
    "`*` 수백년 전통의 간장맛을 유지하는 방식\n",
    "\n",
    "- $\\text{콩물}_1 \\overset{\\text{숙성}}{\\longrightarrow} \\text{간장}_1$\n",
    "- $\\text{콩물}_2, \\text{간장}_1 \\overset{\\text{숙성}}{\\longrightarrow} \\text{간장}_2$\n",
    "- $\\text{콩물}_3, \\text{간장}_2 \\overset{\\text{숙성}}{\\longrightarrow} \\text{간장}_3$"
   ]
  },
  {
   "cell_type": "markdown",
   "id": "86b89343-7701-4dc6-b51e-3fa1ac50ceb0",
   "metadata": {},
   "source": [
    "`*` 수백년 전통의 간장맛을 유지하면서 조리를 한다면? \n",
    "\n",
    "- $\\text{콩물}_1 \\overset{\\text{숙성}}{\\longrightarrow} \\text{간장}_1 \\overset{\\text{조리}}{\\longrightarrow} \\text{간장계란밥}_1$\n",
    "- $\\text{콩물}_2, \\text{간장}_1 \\overset{\\text{숙성}}{\\longrightarrow} \\text{간장}_2 \\overset{\\text{조리}}{\\longrightarrow} \\text{간장계란밥}_2$\n",
    "- $\\text{콩물}_3, \\text{간장}_2 \\overset{\\text{숙성}}{\\longrightarrow} \\text{간장}_3 \\overset{\\text{조리}}{\\longrightarrow} \\text{간장계란밥}_3$"
   ]
  },
  {
   "cell_type": "markdown",
   "id": "9007059b-2873-4bb1-a756-ed8cf3a0c10f",
   "metadata": {},
   "source": [
    "점점 맛있는 간장계란밥이 탄생함 "
   ]
  },
  {
   "cell_type": "markdown",
   "id": "37ff38d0-b977-4977-a235-b8d404f08f9d",
   "metadata": {},
   "source": [
    "`*` 알고리즘의 편의상 아래와 같이 생각해도 무방 \n",
    "\n",
    "- $\\text{콩물}_1, \\text{간장}_0 \\overset{\\text{숙성}}{\\longrightarrow} \\text{간장}_1 \\overset{\\text{조리}}{\\longrightarrow} \\text{간장계란밥}_1$, $\\text{간장}_0=\\text{맹물}$\n",
    "- $\\text{콩물}_2, \\text{간장}_1 \\overset{\\text{숙성}}{\\longrightarrow} \\text{간장}_2 \\overset{\\text{조리}}{\\longrightarrow} \\text{간장계란밥}_2$\n",
    "- $\\text{콩물}_3, \\text{간장}_2 \\overset{\\text{숙성}}{\\longrightarrow} \\text{간장}_3 \\overset{\\text{조리}}{\\longrightarrow} \\text{간장계란밥}_3$"
   ]
  },
  {
   "cell_type": "markdown",
   "id": "619a9183-1e0e-4130-bf07-515cdba0b081",
   "metadata": {},
   "source": [
    "***아이디어***"
   ]
  },
  {
   "cell_type": "markdown",
   "id": "9f2c9639-74bb-4e22-8e9f-60e32ed20d13",
   "metadata": {},
   "source": [
    "`*` 수백년 전통의 간장맛을 유지하면서 조리하는 과정을 수식으로? (콩물을 $x$로, 간장을 $h$로!!)\n",
    "\n",
    "- $\\boldsymbol{x}_1, \\boldsymbol{h}_0 \\overset{\\text{숙성}}{\\longrightarrow} \\boldsymbol{h}_1 \\overset{\\text{조리}}{\\longrightarrow} \\hat{\\boldsymbol y}_1$\n",
    "- $\\boldsymbol{x}_2, \\boldsymbol{h}_1 \\overset{\\text{숙성}}{\\longrightarrow} \\boldsymbol{h}_2 \\overset{\\text{조리}}{\\longrightarrow} \\hat{\\boldsymbol y}_2$\n",
    "- $\\boldsymbol{x}_3, \\boldsymbol{h}_2 \\overset{\\text{숙성}}{\\longrightarrow} \\boldsymbol{h}_3 \\overset{\\text{조리}}{\\longrightarrow} \\hat{\\boldsymbol y}_3$"
   ]
  },
  {
   "cell_type": "markdown",
   "id": "e306bc9f-8844-40e1-8d43-1c4f9bd190aa",
   "metadata": {},
   "source": [
    "이제 우리가 배울것은 (1) \"$\\text{콩물}_{t}$\"와 \"$\\text{간장}_{t-1}$\"로 \"$\\text{간장}_t$\"를 `숙성`하는 방법 (2) \"$\\text{간장}_t$\"로 \"$\\text{간장계란밥}_t$를 `조리`하는 방법이다 \n",
    "\n",
    "즉 `숙성`담당 네트워크와 `조리`담당 네트워크를 각각 만들어 학습하면 된다. "
   ]
  },
  {
   "cell_type": "markdown",
   "id": "b46f8064-2af1-49f9-bc69-7a63b246a9b9",
   "metadata": {},
   "source": [
    "## B. 순환신경망 알고리즘"
   ]
  },
  {
   "cell_type": "markdown",
   "id": "20c9e158-16c0-43c5-a51d-8a19057e515a",
   "metadata": {},
   "source": [
    "***`# 버전1`***"
   ]
  },
  {
   "cell_type": "markdown",
   "id": "62ea46ce-6ee8-4ccd-b4d0-429562a5ab42",
   "metadata": {},
   "source": [
    "**step 1**: 일단 $\\text{간장}_0(={\\boldsymbol h}_0)$을 맹물로 초기화 한다. 즉 아래를 수행한다. \n",
    "\n",
    "$${\\boldsymbol h}_0 = [[0,0]]$$ \n",
    "\n",
    "이때 ${\\boldsymbol h}_0 = [[0,0]]$ 은 이론상에서는 shape이 (1,2) 이지만 알고리즘 상에서는 shape 을 (2,)로 생각해도 무방하다. "
   ]
  },
  {
   "cell_type": "markdown",
   "id": "6f5be513-d410-46f4-ad0a-307f5c043eab",
   "metadata": {},
   "source": [
    "**step 2**: $\\text{콩물}_1(={\\boldsymbol x}_1)$, $\\text{간장}_0(={\\boldsymbol h}_0)$ 을 이용하여 $\\text{간장}_1(={\\boldsymbol h}_1)$을 숙성한다. 즉 아래를 수행한다.  \n",
    "\n",
    "$${\\boldsymbol h}_1= \\tanh({\\boldsymbol x}_1{\\bf W}_{ih}+{\\boldsymbol h}_0{\\bf W}_{hh}+{\\boldsymbol b}_{ih}+{\\boldsymbol b}_{hh})$$\n",
    "\n",
    "이때 변수들의 차원은 아래와 같다. \n",
    "\n",
    "- ${\\boldsymbol x}_1$: (1,4) 이지만 (4,) 로 생각한다. \n",
    "- ${\\boldsymbol h}_0$,${\\boldsymbol h}_1$: (1,2) 이지만 (2,) 로 생각한다. \n",
    "- ${\\bf W}_{ih}$: (4,2) // ${\\bf W}_{hh}$: (2,2) // ${\\boldsymbol b}_{ih}$: (1,2) // ${\\boldsymbol b}_{hh}$: (1,2) 로 생각한다. "
   ]
  },
  {
   "cell_type": "markdown",
   "id": "d6aa915c-9f62-45c3-8982-7becbde5d4dd",
   "metadata": {},
   "source": [
    "**step 3:** $\\text{간장}_1$을 이용하여 $\\text{간장계란밥}_1$을 만든다. 그리고 $\\hat{\\boldsymbol y}_1$을 만든다. \n",
    "\n",
    "$${\\boldsymbol o}_1= {\\bf W}_{ho}{\\boldsymbol h}_1+{\\boldsymbol b}_{ho}$$\n",
    "\n",
    "$$\\hat{\\boldsymbol y}_1 = \\text{soft}({\\boldsymbol o}_1)$$"
   ]
  },
  {
   "cell_type": "markdown",
   "id": "2eee3638-25e8-4054-9fe9-4256d4241053",
   "metadata": {},
   "source": [
    "**step 4**: $t=2,3,4,5,\\dots,L$ 에 대하여 step2-3을 반복한다. "
   ]
  },
  {
   "cell_type": "markdown",
   "id": "429b8b48-98ee-43c9-bcf6-d0db78b6472f",
   "metadata": {},
   "source": [
    "`#`"
   ]
  },
  {
   "cell_type": "markdown",
   "id": "fa3281f7-d58b-4f42-979b-3543f9c579cb",
   "metadata": {},
   "source": [
    "***`# 버전2`***\n",
    "\n",
    "init $\\boldsymbol{h}_0$ \n",
    "\n",
    "for $t$ in $1:L$ \n",
    "\n",
    "- ${\\boldsymbol h}_t= \\tanh({\\boldsymbol x}_t{\\bf W}_{ih}+{\\boldsymbol h}_{t-1}{\\bf W}_{hh}+{\\boldsymbol b}_{ih}+{\\boldsymbol b}_{hh})$\n",
    "- ${\\boldsymbol o}_t= {\\bf W}_{ho}{\\boldsymbol h}_1+{\\boldsymbol b}_{ho}$\n",
    "- $\\hat{\\boldsymbol y}_t = \\text{soft}({\\boldsymbol o}_t)$\n",
    "    "
   ]
  },
  {
   "cell_type": "markdown",
   "id": "1cf29dd8-d451-4e27-b12a-d7c9c3359659",
   "metadata": {},
   "source": [
    "`#`"
   ]
  },
  {
   "cell_type": "markdown",
   "id": "9a290613-b19b-43c2-bc08-c9c4546f8035",
   "metadata": {},
   "source": [
    "***`# 버전3`***\n",
    "\n",
    "```Python \n",
    "ht = [0,0]\n",
    "for t in 1:T \n",
    "    ht = tanh(linr(xt)+linr(ht))\n",
    "    ot = linr(ht)\n",
    "    yt_hat = soft(ot)\n",
    "```    "
   ]
  },
  {
   "cell_type": "markdown",
   "id": "6366ff26-6792-4c6d-858c-52c1b7e685a8",
   "metadata": {},
   "source": [
    "- 코드상으로는 $h_t$와 $h_{t-1}$의 구분이 교모하게 사라진다. (그래서 오히려 좋아)"
   ]
  },
  {
   "cell_type": "markdown",
   "id": "32f0ea4c-7909-4418-9034-ebcb2586af0e",
   "metadata": {},
   "source": [
    "`#`"
   ]
  },
  {
   "cell_type": "markdown",
   "id": "54f7b5d2-8492-4cd9-839c-af8081713117",
   "metadata": {},
   "source": [
    "`-` 따라서 실질적인 전체코드는 아래와 같은 방식으로 구현할 수 있다. "
   ]
  },
  {
   "cell_type": "markdown",
   "id": "3bbd35ed-731d-43fe-a5c9-b03b87726c11",
   "metadata": {},
   "source": [
    "```Python \n",
    "class rNNCell(torch.nn.Module):\n",
    "    def __init__(self):\n",
    "        super().__init__()\n",
    "        linr1 = torch.nn.Linear(?,?) \n",
    "        linr2 = torch.nn.Linear(?,?) \n",
    "        tanh = torch.nn.Tanh()\n",
    "    def forward(self,Xt,ht):\n",
    "        ht = tanh(lrnr1(Xt)+lrnr2(ht))\n",
    "        return ht\n",
    "\n",
    "init ht\n",
    "rnncell = rNNCell()\n",
    "\n",
    "for t in 1:L \n",
    "    Xt, yt = X[t], y[t]\n",
    "    ht = rnncell(Xt, ht)\n",
    "    ot = linr(ht) \n",
    "    loss = loss + loss_fn(ot, yt)\n",
    "\n",
    "```    "
   ]
  },
  {
   "cell_type": "markdown",
   "id": "3c7c76ed-de5f-4c75-9c80-3e95212d583f",
   "metadata": {},
   "source": [
    "## C. 구현1 -- rNNCell"
   ]
  },
  {
   "cell_type": "markdown",
   "id": "7e2d5622-e252-4aee-b5b0-4a3664e73294",
   "metadata": {
    "tags": []
   },
   "source": [
    "`-` 데이터정리 "
   ]
  },
  {
   "cell_type": "code",
   "execution_count": 184,
   "id": "a330fa04-c5aa-4b49-a039-aea2c021fde7",
   "metadata": {
    "tags": []
   },
   "outputs": [],
   "source": [
    "x = torch.tensor(df_train.x.map({'A':0,'b':1,'c':2,'d':3}))\n",
    "y = torch.tensor(df_train.y.map({'A':0,'b':1,'c':2,'d':3}))\n",
    "X = torch.nn.functional.one_hot(x).float()\n",
    "y = torch.nn.functional.one_hot(y).float()"
   ]
  },
  {
   "cell_type": "markdown",
   "id": "2a02f83f-0146-4396-a850-839d54b78130",
   "metadata": {},
   "source": [
    "`-` 순환신경망으로 적합  "
   ]
  },
  {
   "cell_type": "code",
   "execution_count": 185,
   "id": "c3342da3-e525-423a-bd86-650417ef23cc",
   "metadata": {
    "tags": []
   },
   "outputs": [],
   "source": [
    "class rNNCell(torch.nn.Module):\n",
    "    def __init__(self):\n",
    "        super().__init__()\n",
    "        self.i2h = torch.nn.Linear(4,2) \n",
    "        self.h2h = torch.nn.Linear(2,2) \n",
    "        self.tanh = torch.nn.Tanh()\n",
    "    def forward(self,Xt,ht):\n",
    "        ht = self.tanh(self.i2h(Xt)+self.h2h(ht))\n",
    "        return ht\n",
    "torch.manual_seed(43052) # 시드고정해야만 답나옴 --> 임베딩공간이 부족하다는 의미 (사실상 6개의 문자니까!)\n",
    "rnncell = rNNCell() # 너는 간장숙성을 담당해라\n",
    "cook = torch.nn.Linear(2,4) # 너는 요리를 담당해라. \n",
    "#\n",
    "loss_fn = torch.nn.CrossEntropyLoss()\n",
    "optimizr = torch.optim.Adam(list(rnncell.parameters())+ list(cook.parameters()),lr=0.1)\n",
    "#---#\n",
    "L = len(X)\n",
    "for epoc in range(200):\n",
    "    ## 1~2 \n",
    "    ht = torch.zeros(2) # 첫간장은 맹물\n",
    "    loss = 0\n",
    "    for t in range(L):\n",
    "        Xt, yt = X[t], y[t]\n",
    "        ht = rnncell(Xt, ht)\n",
    "        ot = cook(ht) \n",
    "        loss = loss + loss_fn(ot, yt)\n",
    "    loss = loss/L\n",
    "    ## 3 \n",
    "    loss.backward()\n",
    "    ## 4 \n",
    "    optimizr.step()\n",
    "    optimizr.zero_grad()"
   ]
  },
  {
   "cell_type": "markdown",
   "id": "e294f472-1d54-434a-8ecd-1e3796bb0c67",
   "metadata": {},
   "source": [
    "`-` 결과 확인 및 시각화 "
   ]
  },
  {
   "cell_type": "code",
   "execution_count": 186,
   "id": "b4363fca-4577-41eb-bcbb-3d2dff7fd6ab",
   "metadata": {
    "tags": []
   },
   "outputs": [
    {
     "data": {
      "text/plain": [
       "tensor([[4.1978e-03, 9.4555e-01, 1.9557e-06, 5.0253e-02],\n",
       "        [9.9994e-01, 5.5569e-05, 8.4751e-10, 1.3143e-06],\n",
       "        [2.1349e-07, 1.1345e-06, 9.7019e-01, 2.9806e-02],\n",
       "        ...,\n",
       "        [2.1339e-07, 1.1339e-06, 9.7020e-01, 2.9798e-02],\n",
       "        [9.9901e-01, 9.6573e-04, 6.9303e-09, 2.1945e-05],\n",
       "        [7.2919e-04, 2.5484e-02, 3.3011e-02, 9.4078e-01]],\n",
       "       grad_fn=<SoftmaxBackward0>)"
      ]
     },
     "execution_count": 186,
     "metadata": {},
     "output_type": "execute_result"
    }
   ],
   "source": [
    "h = torch.zeros(L,2)\n",
    "water = torch.zeros(2)\n",
    "h[0] = rnncell(X[0],water)\n",
    "for t in range(1,L):\n",
    "    h[t] = rnncell(X[t],h[t-1])\n",
    "yhat = soft(cook(h))\n",
    "yhat    "
   ]
  },
  {
   "cell_type": "code",
   "execution_count": 187,
   "id": "bf3ab824-4b5a-4065-bd9f-337862e4264c",
   "metadata": {
    "tags": []
   },
   "outputs": [
    {
     "data": {
      "image/png": "[encoded data removed]",
      "text/plain": [
       "<Figure size 400x666.667 with 1 Axes>"
      ]
     },
     "metadata": {},
     "output_type": "display_data"
    }
   ],
   "source": [
    "mat = torch.concat([h,yhat],axis=1).data[:10]\n",
    "plt.matshow(mat,cmap='bwr',vmin=-1,vmax=1)\n",
    "plt.axvline(x=1.5,color='lime')\n",
    "plt.xticks(range(6),[r'$h_1$',r'$h_2$',r'$P_A$',r'$P_b$',r'$P_c$',r'$P_d$']);"
   ]
  },
  {
   "cell_type": "markdown",
   "id": "f75e069a-624d-41c4-89b0-371f8673fc40",
   "metadata": {},
   "source": [
    "`-` yhat 값 분석"
   ]
  },
  {
   "cell_type": "code",
   "execution_count": 188,
   "id": "d51a242e-0ad0-456f-bd50-56cc6cc5696b",
   "metadata": {
    "tags": []
   },
   "outputs": [
    {
     "data": {
      "text/plain": [
       "array([[0.004, 0.946, 0.   , 0.05 ],\n",
       "       [1.   , 0.   , 0.   , 0.   ],\n",
       "       [0.   , 0.   , 0.97 , 0.03 ],\n",
       "       [0.999, 0.001, 0.   , 0.   ],\n",
       "       [0.001, 0.025, 0.033, 0.941],\n",
       "       [0.983, 0.016, 0.   , 0.   ],\n",
       "       [0.004, 0.965, 0.   , 0.031],\n",
       "       [1.   , 0.   , 0.   , 0.   ],\n",
       "       [0.   , 0.   , 0.97 , 0.03 ],\n",
       "       [0.999, 0.001, 0.   , 0.   ]], dtype=float32)"
      ]
     },
     "execution_count": 188,
     "metadata": {},
     "output_type": "execute_result"
    }
   ],
   "source": [
    "yhat.data.numpy().round(3)[:10]"
   ]
  },
  {
   "cell_type": "markdown",
   "id": "cdd96ce1-bcbe-4891-b935-5a8ec302de1a",
   "metadata": {},
   "source": [
    "- 미세하지만 뒤로갈수록 좀 더 성능이 좋다. "
   ]
  },
  {
   "cell_type": "markdown",
   "id": "3713b41d-e848-43e7-bdd4-ef1d4b83311d",
   "metadata": {},
   "source": [
    "`-` h1,h2 분석 (= 임베딩스페이스 분석)"
   ]
  },
  {
   "cell_type": "code",
   "execution_count": 189,
   "id": "266df1a1-73a6-49e2-9e92-d27486b3dbef",
   "metadata": {
    "tags": []
   },
   "outputs": [
    {
     "data": {
      "text/plain": [
       "<matplotlib.legend.Legend at 0x79f8558e8710>"
      ]
     },
     "execution_count": 189,
     "metadata": {},
     "output_type": "execute_result"
    },
    {
     "data": {
      "image/png": "[encoded data removed]",
      "text/plain": [
       "<Figure size 640x480 with 1 Axes>"
      ]
     },
     "metadata": {},
     "output_type": "display_data"
    }
   ],
   "source": [
    "h1,h2 = h.T.data\n",
    "plt.plot(h1[::6],h2[::6],'X',label=\"A\")\n",
    "plt.plot(h1[1::6],h2[1::6],'X',label=\"b\")\n",
    "plt.plot(h1[2::6],h2[2::6],'X',label=\"A\")\n",
    "plt.plot(h1[3::6],h2[3::6],'X',label=\"c\")\n",
    "plt.plot(h1[4::6],h2[4::6],'X',label=\"A\")\n",
    "plt.plot(h1[5::6],h2[5::6],'X',label=\"d\")\n",
    "plt.legend()"
   ]
  },
  {
   "cell_type": "markdown",
   "id": "831f4ac6-e0ab-4fbe-9de0-f43a7c584f47",
   "metadata": {},
   "source": [
    "## D. 구현2 -- RNNCell"
   ]
  },
  {
   "cell_type": "markdown",
   "id": "f75ba39a-6d61-4ef2-84af-1fbd062b8215",
   "metadata": {},
   "source": [
    "ref: <https://pytorch.org/docs/stable/generated/torch.nn.RNNCell.html>"
   ]
  },
  {
   "cell_type": "markdown",
   "id": "8b3d5dca-878e-4f61-86eb-f5306db74792",
   "metadata": {
    "tags": []
   },
   "source": [
    "`-` 데이터정리 "
   ]
  },
  {
   "cell_type": "code",
   "execution_count": 190,
   "id": "8b8daf72-5ac5-4c74-8a72-7ef25200118c",
   "metadata": {
    "tags": []
   },
   "outputs": [],
   "source": [
    "x = torch.tensor(df_train.x.map({'A':0,'b':1,'c':2,'d':3}))\n",
    "y = torch.tensor(df_train.y.map({'A':0,'b':1,'c':2,'d':3}))\n",
    "X = torch.nn.functional.one_hot(x).float()\n",
    "y = torch.nn.functional.one_hot(y).float()"
   ]
  },
  {
   "cell_type": "markdown",
   "id": "6e101981-898e-45ff-b066-53781e6d1b20",
   "metadata": {},
   "source": [
    "`-` Net설계 및 가중치 설정 (구현1과 동일하도록 가중치 초기화)"
   ]
  },
  {
   "cell_type": "code",
   "execution_count": 191,
   "id": "1fbc71da-14ff-4c76-b720-76219e68b0fb",
   "metadata": {
    "tags": []
   },
   "outputs": [],
   "source": [
    "torch.manual_seed(43052) \n",
    "_rnncell = rNNCell()\n",
    "cook = torch.nn.Linear(2,4)"
   ]
  },
  {
   "cell_type": "code",
   "execution_count": 192,
   "id": "8dcb7639-e51e-4d87-bcb4-8e99796fbe5e",
   "metadata": {
    "tags": []
   },
   "outputs": [],
   "source": [
    "rnncell = torch.nn.RNNCell(4,2)\n",
    "rnncell.weight_ih.data = _rnncell.i2h.weight.data \n",
    "rnncell.weight_hh.data = _rnncell.h2h.weight.data \n",
    "rnncell.bias_ih.data = _rnncell.i2h.bias.data \n",
    "rnncell.bias_hh.data = _rnncell.h2h.bias.data "
   ]
  },
  {
   "cell_type": "markdown",
   "id": "a3b272ae-5c10-4622-bd40-21f14634f23d",
   "metadata": {},
   "source": [
    "`-` 손실함수 및 옵티마이저 설정 "
   ]
  },
  {
   "cell_type": "code",
   "execution_count": 193,
   "id": "340c3efc-7c07-4d98-90c2-6a153cf0c02e",
   "metadata": {
    "tags": []
   },
   "outputs": [],
   "source": [
    "loss_fn = torch.nn.CrossEntropyLoss() \n",
    "optimizr = torch.optim.Adam(list(rnncell.parameters())+list(cook.parameters()),lr=0.1)"
   ]
  },
  {
   "cell_type": "markdown",
   "id": "52d54144-94a3-463b-a374-02bc07e1907a",
   "metadata": {},
   "source": [
    "`-` 학습"
   ]
  },
  {
   "cell_type": "code",
   "execution_count": 194,
   "id": "80f84d12-df66-4b34-a5ee-8561dafeb636",
   "metadata": {
    "tags": []
   },
   "outputs": [],
   "source": [
    "L = len(X)\n",
    "for epoc in range(200):\n",
    "    ## 1~2 \n",
    "    ht = torch.zeros(2) # 첫간장은 맹물\n",
    "    loss = 0\n",
    "    for t in range(L):\n",
    "        Xt, yt = X[t], y[t]\n",
    "        ht = rnncell(Xt, ht)\n",
    "        ot = cook(ht) \n",
    "        loss = loss + loss_fn(ot, yt)\n",
    "    loss = loss/L\n",
    "    ## 3 \n",
    "    loss.backward()\n",
    "    ## 4 \n",
    "    optimizr.step()\n",
    "    optimizr.zero_grad()"
   ]
  },
  {
   "cell_type": "markdown",
   "id": "73ae59a3-147c-45cd-89c4-fd28deb6507e",
   "metadata": {},
   "source": [
    "`-` 결과확인  "
   ]
  },
  {
   "cell_type": "code",
   "execution_count": 195,
   "id": "21017b68-d5b7-4cc4-b9cc-b31835db7cc2",
   "metadata": {
    "tags": []
   },
   "outputs": [
    {
     "data": {
      "text/plain": [
       "tensor([[4.1978e-03, 9.4555e-01, 1.9557e-06, 5.0253e-02],\n",
       "        [9.9994e-01, 5.5569e-05, 8.4751e-10, 1.3143e-06],\n",
       "        [2.1349e-07, 1.1345e-06, 9.7019e-01, 2.9806e-02],\n",
       "        ...,\n",
       "        [2.1339e-07, 1.1339e-06, 9.7020e-01, 2.9798e-02],\n",
       "        [9.9901e-01, 9.6573e-04, 6.9303e-09, 2.1945e-05],\n",
       "        [7.2919e-04, 2.5484e-02, 3.3011e-02, 9.4078e-01]],\n",
       "       grad_fn=<SoftmaxBackward0>)"
      ]
     },
     "execution_count": 195,
     "metadata": {},
     "output_type": "execute_result"
    }
   ],
   "source": [
    "h = torch.zeros(L,2)\n",
    "water = torch.zeros(2)\n",
    "h[0] = rnncell(X[0],water)\n",
    "for t in range(1,L):\n",
    "    h[t] = rnncell(X[t],h[t-1])\n",
    "yhat = soft(cook(h))\n",
    "yhat"
   ]
  },
  {
   "cell_type": "markdown",
   "id": "7bfc59f8-809e-46c8-977a-940a510acece",
   "metadata": {},
   "source": [
    "- 구현1과 같은 결과 "
   ]
  },
  {
   "cell_type": "markdown",
   "id": "851ab7ea-9e2f-463e-9bb0-39b5c7302f92",
   "metadata": {},
   "source": [
    "# 5. HW: hello"
   ]
  },
  {
   "cell_type": "markdown",
   "id": "52efaf59-96cf-48f4-90e1-9eb7350471f5",
   "metadata": {},
   "source": [
    "아래와 같이 hello가 반복되는 자료가 있다고 하자."
   ]
  },
  {
   "cell_type": "code",
   "execution_count": 176,
   "id": "a0d23169-85b2-4c86-93d8-b702ca18995e",
   "metadata": {
    "tags": []
   },
   "outputs": [
    {
     "data": {
      "text/plain": [
       "['h', 'e', 'l', 'l', 'o', 'h', 'e', 'l', 'l', 'o']"
      ]
     },
     "execution_count": 176,
     "metadata": {},
     "output_type": "execute_result"
    }
   ],
   "source": [
    "txt = list('hello'*100)\n",
    "txt[:10]"
   ]
  },
  {
   "cell_type": "markdown",
   "id": "391a0399-d6a3-4745-9bfb-b004cbfac770",
   "metadata": {},
   "source": [
    "`(1)` `rNNCell`을 이용하여 학습하라. (적절한 은닉노드수를 설정할 것) "
   ]
  },
  {
   "cell_type": "markdown",
   "id": "6e0d5364-45af-4d09-b39d-4f3c02a85c16",
   "metadata": {},
   "source": [
    "`(2)` `torch.nn.RNNCell`을 이용하여 (1)의 결과를 재현하라. "
   ]
  }
 ],
 "metadata": {
  "kernelspec": {
   "display_name": "Python 3 (ipykernel)",
   "language": "python",
   "name": "python3"
  },
  "language_info": {
   "codemirror_mode": {
    "name": "ipython",
    "version": 3
   },
   "file_extension": ".py",
   "mimetype": "text/x-python",
   "name": "python",
   "nbconvert_exporter": "python",
   "pygments_lexer": "ipython3",
   "version": "3.11.8"
  }
 },
 "nbformat": 4,
 "nbformat_minor": 5
}
